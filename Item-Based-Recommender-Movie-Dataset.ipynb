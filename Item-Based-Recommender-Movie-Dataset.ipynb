{
 "cells": [
  {
   "cell_type": "markdown",
   "id": "7caef1ec",
   "metadata": {},
   "source": [
    "# Item Based Recommender\n",
    "\n",
    "    1. Data Set Preparation\n",
    "\n",
    "    2. Creating the User Movie Df\n",
    "\n",
    "    3. Making Item-Based Movie Suggestions"
   ]
  },
  {
   "cell_type": "markdown",
   "id": "9aecdacb",
   "metadata": {},
   "source": [
    "## Import Necessary Libraries"
   ]
  },
  {
   "cell_type": "code",
   "execution_count": 63,
   "id": "66b67708",
   "metadata": {},
   "outputs": [],
   "source": [
    "import numpy as np\n",
    "import pandas as pd\n",
    "pd.set_option(\"display.max_columns\",None)\n",
    "pd.set_option(\"display.width\",500)"
   ]
  },
  {
   "cell_type": "markdown",
   "id": "712638e2",
   "metadata": {},
   "source": [
    "## Create the user_movie_df"
   ]
  },
  {
   "cell_type": "code",
   "execution_count": 53,
   "id": "a0bff3db",
   "metadata": {},
   "outputs": [],
   "source": [
    "def create_user_movie_df():\n",
    "    movie = pd.read_csv(\"C://Users//Tohid//Downloads//recommender_systems//datasets//movie_lens_dataset//movie.csv\")\n",
    "    rating = pd.read_csv(\"C://Users//Tohid//Downloads//recommender_systems//datasets//movie_lens_dataset//rating.csv\")\n",
    "    df = movie.merge(rating,how=\"left\",on=\"movieId\")\n",
    "    comment_counts = pd.DataFrame(df[\"title\"].value_counts())\n",
    "    rare_movies = comment_counts[comment_counts[\"title\"] <= 10000].index\n",
    "    common_movies = df[~df[\"title\"].isin(rare_movies)]\n",
    "    user_movie_df = common_movies.pivot_table(index=[\"userId\"], columns=[\"title\"], values=\"rating\")\n",
    "    return user_movie_df"
   ]
  },
  {
   "cell_type": "code",
   "execution_count": 54,
   "id": "783a1700",
   "metadata": {},
   "outputs": [],
   "source": [
    "user_movie_df = create_user_movie_df()"
   ]
  },
  {
   "cell_type": "markdown",
   "id": "27cac339",
   "metadata": {},
   "source": [
    "## Making Item-Based Movie Suggestions"
   ]
  },
  {
   "cell_type": "code",
   "execution_count": 55,
   "id": "bbfaba04",
   "metadata": {},
   "outputs": [],
   "source": [
    "def item_based_recommender(movie_name,user_movie_df):\n",
    "    movie_name = user_movie_df[movie_name]\n",
    "    return user_movie_df.corrwith(movie_name).sort_values(ascending=False).head(10)"
   ]
  },
  {
   "cell_type": "markdown",
   "id": "03baccff",
   "metadata": {},
   "source": [
    "## Example one to choose the recommended movie"
   ]
  },
  {
   "cell_type": "code",
   "execution_count": 56,
   "id": "11957d13",
   "metadata": {},
   "outputs": [
    {
     "data": {
      "text/plain": [
       "title\n",
       "Matrix, The (1999)                                           1.000000\n",
       "Matrix Reloaded, The (2003)                                  0.516906\n",
       "Matrix Revolutions, The (2003)                               0.449588\n",
       "Blade (1998)                                                 0.334493\n",
       "Terminator 2: Judgment Day (1991)                            0.333882\n",
       "Minority Report (2002)                                       0.332434\n",
       "Mission: Impossible (1996)                                   0.320815\n",
       "Lord of the Rings: The Fellowship of the Ring, The (2001)    0.318726\n",
       "Lord of the Rings: The Two Towers, The (2002)                0.318086\n",
       "Lord of the Rings: The Return of the King, The (2003)        0.314241\n",
       "dtype: float64"
      ]
     },
     "execution_count": 56,
     "metadata": {},
     "output_type": "execute_result"
    }
   ],
   "source": [
    "item_based_recommender(\"Matrix, The (1999)\",user_movie_df)"
   ]
  },
  {
   "cell_type": "markdown",
   "id": "83b6fb5b",
   "metadata": {},
   "source": [
    "## Example two to choose the recommended movie"
   ]
  },
  {
   "cell_type": "code",
   "execution_count": 65,
   "id": "9b0e6197",
   "metadata": {
    "scrolled": true
   },
   "outputs": [
    {
     "data": {
      "text/plain": [
       "title\n",
       "Total Recall (1990)                  1.000000\n",
       "Predator (1987)                      0.436060\n",
       "Terminator, The (1984)               0.425449\n",
       "Terminator 2: Judgment Day (1991)    0.415823\n",
       "True Lies (1994)                     0.413680\n",
       "Eraser (1996)                        0.408358\n",
       "RoboCop (1987)                       0.400136\n",
       "Demolition Man (1993)                0.382048\n",
       "Last Action Hero (1993)              0.357018\n",
       "Lethal Weapon (1987)                 0.354562\n",
       "dtype: float64"
      ]
     },
     "execution_count": 65,
     "metadata": {},
     "output_type": "execute_result"
    }
   ],
   "source": [
    "movie_name = pd.Series(user_movie_df.columns).sample(1).values[0]\n",
    "item_based_recommender(movie_name,user_movie_df)"
   ]
  },
  {
   "cell_type": "markdown",
   "id": "419f485d",
   "metadata": {},
   "source": [
    "## Example three to choose the recommended movie"
   ]
  },
  {
   "cell_type": "code",
   "execution_count": 75,
   "id": "cb0af894",
   "metadata": {},
   "outputs": [
    {
     "data": {
      "text/plain": [
       "title\n",
       "Terminator 2: Judgment Day (1991)    1.000000\n",
       "Terminator, The (1984)               0.589646\n",
       "Predator (1987)                      0.438284\n",
       "Die Hard (1988)                      0.431830\n",
       "Aliens (1986)                        0.420430\n",
       "Total Recall (1990)                  0.415823\n",
       "RoboCop (1987)                       0.403007\n",
       "True Lies (1994)                     0.377791\n",
       "Jurassic Park (1993)                 0.371392\n",
       "Die Hard 2 (1990)                    0.368998\n",
       "dtype: float64"
      ]
     },
     "execution_count": 75,
     "metadata": {},
     "output_type": "execute_result"
    }
   ],
   "source": [
    "def check_film(keyword, user_movie_df):\n",
    "    return [col for col in user_movie_df.columns if keyword in col]\n",
    "\n",
    "movie_name = check_film(\"Terminator\", user_movie_df)[0]\n",
    "item_based_recommender(movie_name,user_movie_df)"
   ]
  },
  {
   "cell_type": "code",
   "execution_count": null,
   "id": "5baf54eb",
   "metadata": {},
   "outputs": [],
   "source": []
  }
 ],
 "metadata": {
  "kernelspec": {
   "display_name": "Python 3 (ipykernel)",
   "language": "python",
   "name": "python3"
  },
  "language_info": {
   "codemirror_mode": {
    "name": "ipython",
    "version": 3
   },
   "file_extension": ".py",
   "mimetype": "text/x-python",
   "name": "python",
   "nbconvert_exporter": "python",
   "pygments_lexer": "ipython3",
   "version": "3.9.12"
  }
 },
 "nbformat": 4,
 "nbformat_minor": 5
}
